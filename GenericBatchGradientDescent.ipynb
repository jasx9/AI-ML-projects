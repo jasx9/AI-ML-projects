{
 "cells": [
  {
   "cell_type": "code",
   "execution_count": 7,
   "id": "c3034bb3-c537-4bec-84cd-6d9c05e9b60b",
   "metadata": {},
   "outputs": [],
   "source": [
    "import numpy as np"
   ]
  },
  {
   "cell_type": "code",
   "execution_count": 82,
   "id": "b888786f-594f-4ae3-b13a-2c834822bb3f",
   "metadata": {},
   "outputs": [],
   "source": [
    "def step_gradient(data, learning_rate, m):\n",
    "    m_slope = np.zeros_like(m)\n",
    "    N = len(data)\n",
    "    for i in range(N):\n",
    "        x = data[i, :-1]\n",
    "        y = data[i, -1]\n",
    "        for j in range(len(data)):\n",
    "            m_slope += (-2/N)*(y - m[j]*x - m[-1])*x\n",
    "            new_m = m - learning_rate*m_slope\n",
    "    return new_m"
   ]
  },
  {
   "cell_type": "code",
   "execution_count": 78,
   "id": "dfb1d80a-0e85-4bf1-aeff-63c4f6356d95",
   "metadata": {},
   "outputs": [],
   "source": [
    "def gd(data, learning_rate, num_iterations):\n",
    "    m = np.zeros((len(data)+1,))\n",
    "    #print(m)\n",
    "    for i in range(num_iterations):\n",
    "        m = step_gradient(data, learning_rate, m)\n",
    "    return m"
   ]
  },
  {
   "cell_type": "code",
   "execution_count": 80,
   "id": "6e481534-1a3f-4a1c-b7ee-7eb29229e771",
   "metadata": {},
   "outputs": [],
   "source": [
    "def run():\n",
    "    data = np.loadtxt('data_CG.csv', delimiter = ',')\n",
    "    learning_rate = 0.0001\n",
    "    num_iterations = 10\n",
    "    m = gd(data, learning_rate, num_iterations)\n",
    "    print(m)"
   ]
  },
  {
   "cell_type": "code",
   "execution_count": 81,
   "id": "9af75c09-19aa-47e9-8418-fbda5ba89779",
   "metadata": {},
   "outputs": [
    {
     "name": "stderr",
     "output_type": "stream",
     "text": [
      "/tmp/ipykernel_870/2541653833.py:8: RuntimeWarning: overflow encountered in add\n",
      "  m_slope += (-2/N)*(y - m[j]*x - m[-1])*x\n",
      "/tmp/ipykernel_870/2541653833.py:9: RuntimeWarning: invalid value encountered in subtract\n",
      "  new_m = m - learning_rate*m_slope\n"
     ]
    },
    {
     "name": "stdout",
     "output_type": "stream",
     "text": [
      "[nan nan nan nan nan nan nan nan nan nan nan nan nan nan nan nan nan nan\n",
      " nan nan nan nan nan nan nan nan nan nan nan nan nan nan nan nan nan nan\n",
      " nan nan nan nan nan nan nan nan nan nan nan nan nan nan nan nan nan nan\n",
      " nan nan nan nan nan nan nan nan nan nan nan nan nan nan nan nan nan nan\n",
      " nan nan nan nan nan nan nan nan nan nan nan nan nan nan nan nan nan nan\n",
      " nan nan nan nan nan nan nan nan nan nan nan]\n"
     ]
    }
   ],
   "source": [
    "run()"
   ]
  }
 ],
 "metadata": {
  "kernelspec": {
   "display_name": "anaconda-2024.02-py310",
   "language": "python",
   "name": "conda-env-anaconda-2024.02-py310-py"
  },
  "language_info": {
   "codemirror_mode": {
    "name": "ipython",
    "version": 3
   },
   "file_extension": ".py",
   "mimetype": "text/x-python",
   "name": "python",
   "nbconvert_exporter": "python",
   "pygments_lexer": "ipython3",
   "version": "3.10.14"
  }
 },
 "nbformat": 4,
 "nbformat_minor": 5
}
