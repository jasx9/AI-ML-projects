{
 "cells": [
  {
   "cell_type": "code",
   "execution_count": 10,
   "id": "ab15f1a9-dea6-4ff6-bb0b-c501564b91ba",
   "metadata": {},
   "outputs": [],
   "source": [
    "import numpy as np"
   ]
  },
  {
   "cell_type": "code",
   "execution_count": 6,
   "id": "15b36e5e-0432-44dc-8310-a8413a2422b0",
   "metadata": {},
   "outputs": [],
   "source": [
    "def step_gradient(points, learning_rate, m, c):\n",
    "    m_slope = 0\n",
    "    c_slope = 0\n",
    "    N = len(points)\n",
    "    for i in range(N):\n",
    "        x = points[i, 0]\n",
    "        y = points[i, 1]\n",
    "        m_slope += (-2/N)*(y - m*x - c)*x\n",
    "        c_slope += (-2/N)*(y - m*x - c)\n",
    "    new_m = m - learning_rate*m_slope\n",
    "    new_c = c - learning_rate*c_slope\n",
    "    return new_m, new_c"
   ]
  },
  {
   "cell_type": "code",
   "execution_count": 12,
   "id": "79cacccc-b026-43bd-9c40-9a5115d7d2a9",
   "metadata": {},
   "outputs": [],
   "source": [
    "def cost(points, m, c):\n",
    "    total_cost = 0\n",
    "    N = len(points)\n",
    "    for i in range(N):\n",
    "        x = points[i, 0]\n",
    "        y = points[i, 1]\n",
    "        total_cost = (1/N)*(y - m*x - c)**2\n",
    "    return total_cost"
   ]
  },
  {
   "cell_type": "code",
   "execution_count": 13,
   "id": "4675c0a3-a7c5-42b7-a6fc-ee5bfa84fadb",
   "metadata": {},
   "outputs": [],
   "source": [
    "def gd(points, learning_rate, num_iterations):\n",
    "    m = 0\n",
    "    c = 0\n",
    "    for i in range(num_iterations):\n",
    "        m, c = step_gradient(points, learning_rate, m, c)\n",
    "        # print(i, 'Cost :', cost(points, m, c))\n",
    "    return m, c"
   ]
  },
  {
   "cell_type": "code",
   "execution_count": 14,
   "id": "a55d06cc-48e9-49c0-a581-fef550c38000",
   "metadata": {},
   "outputs": [],
   "source": [
    "def run():\n",
    "    data = np.loadtxt('data_CG.csv', delimiter = ',')\n",
    "    learning_rate = 0.0001\n",
    "    num_iterations = 1000000\n",
    "    m, c = gd(data, learning_rate, num_iterations)\n",
    "    print(m, c)"
   ]
  },
  {
   "cell_type": "code",
   "execution_count": 26,
   "id": "19fa00b9-7f61-44ed-9991-2454a765089f",
   "metadata": {},
   "outputs": [
    {
     "name": "stdout",
     "output_type": "stream",
     "text": [
      "1.477744085189445 0.0889365199374136\n"
     ]
    }
   ],
   "source": [
    "run() # 100 iterations"
   ]
  },
  {
   "cell_type": "code",
   "execution_count": 29,
   "id": "ca036b61-f371-4c93-ba6d-8bc718a4ec0d",
   "metadata": {},
   "outputs": [
    {
     "name": "stdout",
     "output_type": "stream",
     "text": [
      "1.47741737554838 0.029639347874732384\n"
     ]
    }
   ],
   "source": [
    "run() # 10 iterations"
   ]
  },
  {
   "cell_type": "code",
   "execution_count": 31,
   "id": "440efc45-396e-4dce-a6c7-0d87b5486047",
   "metadata": {},
   "outputs": [
    {
     "name": "stdout",
     "output_type": "stream",
     "text": [
      "1.477744085189445 0.0889365199374136\n"
     ]
    }
   ],
   "source": [
    "run() # 1000 iterations"
   ]
  },
  {
   "cell_type": "code",
   "execution_count": 61,
   "id": "c19dfdcc-02fa-4124-88e8-62c8e33d2d35",
   "metadata": {},
   "outputs": [
    {
     "name": "stdout",
     "output_type": "stream",
     "text": [
      "1.4794209601629833 0.003510849809932732\n"
     ]
    }
   ],
   "source": [
    "run()"
   ]
  },
  {
   "cell_type": "code",
   "execution_count": 63,
   "id": "fe3a8b47-84c9-4ccc-9912-f282975556e7",
   "metadata": {},
   "outputs": [
    {
     "name": "stdout",
     "output_type": "stream",
     "text": [
      "1.396220800817132 4.236661883380829\n"
     ]
    }
   ],
   "source": [
    "run()"
   ]
  },
  {
   "cell_type": "code",
   "execution_count": 55,
   "id": "22bfd11c-08b9-48ba-bfea-12d97c59cedc",
   "metadata": {},
   "outputs": [
    {
     "name": "stdout",
     "output_type": "stream",
     "text": [
      "0 Cost : 12.202082853718219\n",
      "1 Cost : 6.572502628994719\n",
      "2 Cost : 4.398656358717338\n",
      "3 Cost : 3.471764503115576\n",
      "4 Cost : 3.047933985582125\n",
      "5 Cost : 2.8456525890500695\n",
      "6 Cost : 2.746766337545583\n",
      "7 Cost : 2.6978047313247315\n",
      "8 Cost : 2.673401765865198\n",
      "9 Cost : 2.6611979167007354\n",
      "1.4779343505419948 0.002965110641220894\n"
     ]
    }
   ],
   "source": [
    "run()"
   ]
  },
  {
   "cell_type": "code",
   "execution_count": 57,
   "id": "d55006b5-f185-49aa-a144-f17f6ad23ef4",
   "metadata": {},
   "outputs": [
    {
     "name": "stdout",
     "output_type": "stream",
     "text": [
      "0 Cost : 12.202082853718219\n",
      "1 Cost : 6.572502628994719\n",
      "2 Cost : 4.398656358717338\n",
      "3 Cost : 3.471764503115576\n",
      "4 Cost : 3.047933985582125\n",
      "5 Cost : 2.8456525890500695\n",
      "6 Cost : 2.746766337545583\n",
      "7 Cost : 2.6978047313247315\n",
      "8 Cost : 2.673401765865198\n",
      "9 Cost : 2.6611979167007354\n",
      "10 Cost : 2.6550841891367485\n",
      "11 Cost : 2.652018544657618\n",
      "12 Cost : 2.650480411526307\n",
      "13 Cost : 2.6497082669914347\n",
      "14 Cost : 2.649320361044407\n",
      "15 Cost : 2.649125229942226\n",
      "16 Cost : 2.6490268230615657\n",
      "17 Cost : 2.64897694927061\n",
      "18 Cost : 2.648951428317738\n",
      "19 Cost : 2.648938127210414\n",
      "20 Cost : 2.6489309578485765\n",
      "21 Cost : 2.64892686531804\n",
      "22 Cost : 2.6489243167042686\n",
      "23 Cost : 2.6489225428100123\n",
      "24 Cost : 2.6489211576613787\n",
      "25 Cost : 2.6489199675812296\n",
      "26 Cost : 2.648918875384648\n",
      "27 Cost : 2.6489178323053713\n",
      "28 Cost : 2.648916813873056\n",
      "29 Cost : 2.6489158078087693\n",
      "30 Cost : 2.6489148079510785\n",
      "31 Cost : 2.6489138112082564\n",
      "32 Cost : 2.648912816028901\n",
      "33 Cost : 2.6489118216345453\n",
      "34 Cost : 2.648910827634561\n",
      "35 Cost : 2.6489098338329296\n",
      "36 Cost : 2.6489088401313\n",
      "37 Cost : 2.648907846480314\n",
      "38 Cost : 2.6489068528552098\n",
      "39 Cost : 2.64890585924356\n",
      "40 Cost : 2.6489048656391248\n",
      "41 Cost : 2.6489038720387783\n",
      "42 Cost : 2.648902878440948\n",
      "43 Cost : 2.6489018848448507\n",
      "44 Cost : 2.648900891250085\n",
      "45 Cost : 2.648899897656457\n",
      "46 Cost : 2.648898904063868\n",
      "47 Cost : 2.648897910472264\n",
      "48 Cost : 2.648896916881622\n",
      "49 Cost : 2.6488959232919287\n",
      "50 Cost : 2.6488949297031783\n",
      "51 Cost : 2.6488939361153685\n",
      "52 Cost : 2.648892942528496\n",
      "53 Cost : 2.6488919489425604\n",
      "54 Cost : 2.6488909553575635\n",
      "55 Cost : 2.6488899617735\n",
      "56 Cost : 2.648888968190375\n",
      "57 Cost : 2.6488879746081895\n",
      "58 Cost : 2.648886981026937\n",
      "59 Cost : 2.6488859874466217\n",
      "60 Cost : 2.648884993867243\n",
      "61 Cost : 2.6488840002888008\n",
      "62 Cost : 2.6488830067112965\n",
      "63 Cost : 2.648882013134728\n",
      "64 Cost : 2.6488810195590946\n",
      "65 Cost : 2.648880025984399\n",
      "66 Cost : 2.6488790324106417\n",
      "67 Cost : 2.6488780388378177\n",
      "68 Cost : 2.6488770452659334\n",
      "69 Cost : 2.6488760516949816\n",
      "70 Cost : 2.6488750581249683\n",
      "71 Cost : 2.6488740645558937\n",
      "72 Cost : 2.648873070987753\n",
      "73 Cost : 2.648872077420548\n",
      "74 Cost : 2.6488710838542806\n",
      "75 Cost : 2.648870090288951\n",
      "76 Cost : 2.648869096724557\n",
      "77 Cost : 2.6488681031611\n",
      "78 Cost : 2.6488671095985787\n",
      "79 Cost : 2.6488661160369946\n",
      "80 Cost : 2.6488651224763466\n",
      "81 Cost : 2.648864128916636\n",
      "82 Cost : 2.6488631353578604\n",
      "83 Cost : 2.648862141800024\n",
      "84 Cost : 2.6488611482431184\n",
      "85 Cost : 2.6488601546871546\n",
      "86 Cost : 2.6488591611321257\n",
      "87 Cost : 2.648858167578031\n",
      "88 Cost : 2.6488571740248754\n",
      "89 Cost : 2.6488561804726585\n",
      "90 Cost : 2.648855186921375\n",
      "91 Cost : 2.6488541933710277\n",
      "92 Cost : 2.6488531998216174\n",
      "93 Cost : 2.6488522062731454\n",
      "94 Cost : 2.6488512127256088\n",
      "95 Cost : 2.6488502191790078\n",
      "96 Cost : 2.6488492256333456\n",
      "97 Cost : 2.648848232088617\n",
      "98 Cost : 2.648847238544826\n",
      "99 Cost : 2.648846245001972\n",
      "1.4794209601629833 0.003510849809932732\n"
     ]
    }
   ],
   "source": [
    "run()"
   ]
  }
 ],
 "metadata": {
  "kernelspec": {
   "display_name": "anaconda-panel-2023.05-py310",
   "language": "python",
   "name": "conda-env-anaconda-panel-2023.05-py310-py"
  },
  "language_info": {
   "codemirror_mode": {
    "name": "ipython",
    "version": 3
   },
   "file_extension": ".py",
   "mimetype": "text/x-python",
   "name": "python",
   "nbconvert_exporter": "python",
   "pygments_lexer": "ipython3",
   "version": "3.11.5"
  }
 },
 "nbformat": 4,
 "nbformat_minor": 5
}
