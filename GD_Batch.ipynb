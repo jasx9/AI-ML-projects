{
 "cells": [
  {
   "cell_type": "code",
   "execution_count": 30,
   "id": "3d8fabf7-f39c-4950-8785-6f3556418a0d",
   "metadata": {},
   "outputs": [],
   "source": [
    "import numpy as np"
   ]
  },
  {
   "cell_type": "code",
   "execution_count": 38,
   "id": "4d8832d8-bed4-41ff-a949-06ecc9bdf389",
   "metadata": {},
   "outputs": [],
   "source": [
    "def step_gradient(points, learning_rate, m):\n",
    "    r, c = points.shape\n",
    "    points = np.concatenate([points, np.ones([r,1])], axis = 1)\n",
    "    m_slope = np.zeros([r, c + 1])\n",
    "    for j in range(r):\n",
    "        x_train = train_data[:,:-1]\n",
    "        y_train = train_data[:,-1]\n",
    "        sum1 = 0\n",
    "        for k in range(c + 1):\n",
    "            sum1 += m[k] * points[j][k]\n",
    "        for i in range(c + 1):\n",
    "            m_slope[i] += (-2 / r) * (y_train[j] - sum1) * points[j][i]\n",
    "    new_m = m - learning_rate * m_slope\n",
    "    return new_m"
   ]
  },
  {
   "cell_type": "code",
   "execution_count": 39,
   "id": "70724494-d51a-413e-abf6-67bf0f2c52de",
   "metadata": {},
   "outputs": [],
   "source": [
    "def gd(points, learning_rate, num_iterations):\n",
    "    r, c = points.shape\n",
    "    m = np.zeros([r, c + 1])\n",
    "    for i in range(num_iterations):\n",
    "        m = step_gradient(points, learning_rate, m)\n",
    "    return m"
   ]
  },
  {
   "cell_type": "code",
   "execution_count": 40,
   "id": "81da94f4-ec04-45b8-9b87-d39d37befb49",
   "metadata": {},
   "outputs": [],
   "source": [
    "def run():\n",
    "    train_data = np.loadtxt('training_boston_x_y_train.csv', delimiter = ',')\n",
    "    x_test = np.loadtxt('test_boston_x_test.csv', delimiter = ',')\n",
    "    learning_rate = 0.0001\n",
    "    num_iterations = 10\n",
    "    m = gd(x_train, learning_rate, num_iterations)\n",
    "    return m"
   ]
  },
  {
   "cell_type": "code",
   "execution_count": 43,
   "id": "d233d5f9-d320-4e13-b7eb-5a22f039a00b",
   "metadata": {},
   "outputs": [],
   "source": [
    "m = run()\n",
    "np."
   ]
  }
 ],
 "metadata": {
  "kernelspec": {
   "display_name": "anaconda-panel-2023.05-py310",
   "language": "python",
   "name": "conda-env-anaconda-panel-2023.05-py310-py"
  },
  "language_info": {
   "codemirror_mode": {
    "name": "ipython",
    "version": 3
   },
   "file_extension": ".py",
   "mimetype": "text/x-python",
   "name": "python",
   "nbconvert_exporter": "python",
   "pygments_lexer": "ipython3",
   "version": "3.11.5"
  }
 },
 "nbformat": 4,
 "nbformat_minor": 5
}
